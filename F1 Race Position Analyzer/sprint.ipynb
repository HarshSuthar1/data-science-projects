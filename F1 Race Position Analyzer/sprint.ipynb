{
 "cells": [
  {
   "cell_type": "code",
   "execution_count": 14,
   "metadata": {},
   "outputs": [],
   "source": [
    "import joblib\n",
    "clf = joblib.load('model_name.pkl')"
   ]
  },
  {
   "cell_type": "code",
   "execution_count": 11,
   "metadata": {},
   "outputs": [],
   "source": [
    "sprint_qual_df = pd.read_csv('Data/F1_2025_SprintQualifyingResults.csv')"
   ]
  },
  {
   "cell_type": "code",
   "execution_count": 13,
   "metadata": {},
   "outputs": [
    {
     "data": {
      "text/html": [
       "<div>\n",
       "<style scoped>\n",
       "    .dataframe tbody tr th:only-of-type {\n",
       "        vertical-align: middle;\n",
       "    }\n",
       "\n",
       "    .dataframe tbody tr th {\n",
       "        vertical-align: top;\n",
       "    }\n",
       "\n",
       "    .dataframe thead th {\n",
       "        text-align: right;\n",
       "    }\n",
       "</style>\n",
       "<table border=\"1\" class=\"dataframe\">\n",
       "  <thead>\n",
       "    <tr style=\"text-align: right;\">\n",
       "      <th></th>\n",
       "      <th>Track</th>\n",
       "      <th>Position</th>\n",
       "      <th>No</th>\n",
       "      <th>Driver</th>\n",
       "      <th>Team</th>\n",
       "      <th>Q1</th>\n",
       "      <th>Q2</th>\n",
       "      <th>Q3</th>\n",
       "      <th>Laps</th>\n",
       "    </tr>\n",
       "  </thead>\n",
       "  <tbody>\n",
       "    <tr>\n",
       "      <th>0</th>\n",
       "      <td>China</td>\n",
       "      <td>1</td>\n",
       "      <td>44</td>\n",
       "      <td>Lewis Hamilton</td>\n",
       "      <td>Ferrari</td>\n",
       "      <td>1:31.212</td>\n",
       "      <td>1:31.484</td>\n",
       "      <td>1:30.849</td>\n",
       "      <td>15</td>\n",
       "    </tr>\n",
       "    <tr>\n",
       "      <th>1</th>\n",
       "      <td>China</td>\n",
       "      <td>2</td>\n",
       "      <td>1</td>\n",
       "      <td>Max Verstappen</td>\n",
       "      <td>Red Bull Racing Honda RBPT</td>\n",
       "      <td>1:31.916</td>\n",
       "      <td>1:31.521</td>\n",
       "      <td>1:30.867</td>\n",
       "      <td>12</td>\n",
       "    </tr>\n",
       "    <tr>\n",
       "      <th>2</th>\n",
       "      <td>China</td>\n",
       "      <td>3</td>\n",
       "      <td>81</td>\n",
       "      <td>Oscar Piastri</td>\n",
       "      <td>McLaren Mercedes</td>\n",
       "      <td>1:31.723</td>\n",
       "      <td>1:31.362</td>\n",
       "      <td>1:30.929</td>\n",
       "      <td>13</td>\n",
       "    </tr>\n",
       "    <tr>\n",
       "      <th>3</th>\n",
       "      <td>China</td>\n",
       "      <td>4</td>\n",
       "      <td>16</td>\n",
       "      <td>Charles Leclerc</td>\n",
       "      <td>Ferrari</td>\n",
       "      <td>1:31.518</td>\n",
       "      <td>1:31.561</td>\n",
       "      <td>1:31.057</td>\n",
       "      <td>15</td>\n",
       "    </tr>\n",
       "    <tr>\n",
       "      <th>4</th>\n",
       "      <td>China</td>\n",
       "      <td>5</td>\n",
       "      <td>63</td>\n",
       "      <td>George Russell</td>\n",
       "      <td>Mercedes</td>\n",
       "      <td>1:31.952</td>\n",
       "      <td>1:31.346</td>\n",
       "      <td>1:31.169</td>\n",
       "      <td>18</td>\n",
       "    </tr>\n",
       "  </tbody>\n",
       "</table>\n",
       "</div>"
      ],
      "text/plain": [
       "   Track  Position  No           Driver                        Team        Q1  \\\n",
       "0  China         1  44   Lewis Hamilton                     Ferrari  1:31.212   \n",
       "1  China         2   1   Max Verstappen  Red Bull Racing Honda RBPT  1:31.916   \n",
       "2  China         3  81    Oscar Piastri            McLaren Mercedes  1:31.723   \n",
       "3  China         4  16  Charles Leclerc                     Ferrari  1:31.518   \n",
       "4  China         5  63   George Russell                    Mercedes  1:31.952   \n",
       "\n",
       "         Q2        Q3  Laps  \n",
       "0  1:31.484  1:30.849    15  \n",
       "1  1:31.521  1:30.867    12  \n",
       "2  1:31.362  1:30.929    13  \n",
       "3  1:31.561  1:31.057    15  \n",
       "4  1:31.346  1:31.169    18  "
      ]
     },
     "execution_count": 13,
     "metadata": {},
     "output_type": "execute_result"
    }
   ],
   "source": [
    "sprint_qual_df.head()"
   ]
  },
  {
   "cell_type": "code",
   "execution_count": null,
   "metadata": {},
   "outputs": [],
   "source": []
  }
 ],
 "metadata": {
  "kernelspec": {
   "display_name": "Python 3",
   "language": "python",
   "name": "python3"
  },
  "language_info": {
   "codemirror_mode": {
    "name": "ipython",
    "version": 3
   },
   "file_extension": ".py",
   "mimetype": "text/x-python",
   "name": "python",
   "nbconvert_exporter": "python",
   "pygments_lexer": "ipython3",
   "version": "3.12.1"
  }
 },
 "nbformat": 4,
 "nbformat_minor": 2
}
