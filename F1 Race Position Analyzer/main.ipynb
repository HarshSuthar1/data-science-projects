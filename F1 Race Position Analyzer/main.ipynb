{
 "cells": [
  {
   "cell_type": "code",
   "execution_count": 3,
   "metadata": {},
   "outputs": [],
   "source": [
    "import pandas as pd\n",
    "import numpy as np \n",
    "from sklearn.linear_model import SGDClassifier\n",
    "from sklearn.preprocessing import OrdinalEncoder\n",
    "from sklearn.model_selection import train_test_split\n",
    "from sklearn.metrics import mean_squared_error\n",
    "import matplotlib.pyplot as plt\n",
    "import seaborn as sns\n"
   ]
  },
  {
   "cell_type": "code",
   "execution_count": 4,
   "metadata": {},
   "outputs": [
    {
     "data": {
      "text/html": [
       "<div>\n",
       "<style scoped>\n",
       "    .dataframe tbody tr th:only-of-type {\n",
       "        vertical-align: middle;\n",
       "    }\n",
       "\n",
       "    .dataframe tbody tr th {\n",
       "        vertical-align: top;\n",
       "    }\n",
       "\n",
       "    .dataframe thead th {\n",
       "        text-align: right;\n",
       "    }\n",
       "</style>\n",
       "<table border=\"1\" class=\"dataframe\">\n",
       "  <thead>\n",
       "    <tr style=\"text-align: right;\">\n",
       "      <th></th>\n",
       "      <th>Track</th>\n",
       "      <th>Position</th>\n",
       "      <th>No</th>\n",
       "      <th>Driver</th>\n",
       "      <th>Team</th>\n",
       "      <th>Q1</th>\n",
       "      <th>Q2</th>\n",
       "      <th>Q3</th>\n",
       "      <th>Laps</th>\n",
       "    </tr>\n",
       "  </thead>\n",
       "  <tbody>\n",
       "    <tr>\n",
       "      <th>0</th>\n",
       "      <td>China</td>\n",
       "      <td>1</td>\n",
       "      <td>44</td>\n",
       "      <td>Lewis Hamilton</td>\n",
       "      <td>Ferrari</td>\n",
       "      <td>1:31.212</td>\n",
       "      <td>1:31.484</td>\n",
       "      <td>1:30.849</td>\n",
       "      <td>15</td>\n",
       "    </tr>\n",
       "    <tr>\n",
       "      <th>1</th>\n",
       "      <td>China</td>\n",
       "      <td>2</td>\n",
       "      <td>1</td>\n",
       "      <td>Max Verstappen</td>\n",
       "      <td>Red Bull Racing Honda RBPT</td>\n",
       "      <td>1:31.916</td>\n",
       "      <td>1:31.521</td>\n",
       "      <td>1:30.867</td>\n",
       "      <td>12</td>\n",
       "    </tr>\n",
       "    <tr>\n",
       "      <th>2</th>\n",
       "      <td>China</td>\n",
       "      <td>3</td>\n",
       "      <td>81</td>\n",
       "      <td>Oscar Piastri</td>\n",
       "      <td>McLaren Mercedes</td>\n",
       "      <td>1:31.723</td>\n",
       "      <td>1:31.362</td>\n",
       "      <td>1:30.929</td>\n",
       "      <td>13</td>\n",
       "    </tr>\n",
       "    <tr>\n",
       "      <th>3</th>\n",
       "      <td>China</td>\n",
       "      <td>4</td>\n",
       "      <td>16</td>\n",
       "      <td>Charles Leclerc</td>\n",
       "      <td>Ferrari</td>\n",
       "      <td>1:31.518</td>\n",
       "      <td>1:31.561</td>\n",
       "      <td>1:31.057</td>\n",
       "      <td>15</td>\n",
       "    </tr>\n",
       "    <tr>\n",
       "      <th>4</th>\n",
       "      <td>China</td>\n",
       "      <td>5</td>\n",
       "      <td>63</td>\n",
       "      <td>George Russell</td>\n",
       "      <td>Mercedes</td>\n",
       "      <td>1:31.952</td>\n",
       "      <td>1:31.346</td>\n",
       "      <td>1:31.169</td>\n",
       "      <td>18</td>\n",
       "    </tr>\n",
       "  </tbody>\n",
       "</table>\n",
       "</div>"
      ],
      "text/plain": [
       "   Track  Position  No           Driver                        Team        Q1  \\\n",
       "0  China         1  44   Lewis Hamilton                     Ferrari  1:31.212   \n",
       "1  China         2   1   Max Verstappen  Red Bull Racing Honda RBPT  1:31.916   \n",
       "2  China         3  81    Oscar Piastri            McLaren Mercedes  1:31.723   \n",
       "3  China         4  16  Charles Leclerc                     Ferrari  1:31.518   \n",
       "4  China         5  63   George Russell                    Mercedes  1:31.952   \n",
       "\n",
       "         Q2        Q3  Laps  \n",
       "0  1:31.484  1:30.849    15  \n",
       "1  1:31.521  1:30.867    12  \n",
       "2  1:31.362  1:30.929    13  \n",
       "3  1:31.561  1:31.057    15  \n",
       "4  1:31.346  1:31.169    18  "
      ]
     },
     "execution_count": 4,
     "metadata": {},
     "output_type": "execute_result"
    }
   ],
   "source": [
    "qual_df = pd.read_csv('Data/F1_2025_SprintQualifyingResults.csv')\n",
    "qual_df.head()"
   ]
  },
  {
   "cell_type": "code",
   "execution_count": 5,
   "metadata": {},
   "outputs": [
    {
     "name": "stdout",
     "output_type": "stream",
     "text": [
      "<class 'pandas.core.frame.DataFrame'>\n",
      "RangeIndex: 40 entries, 0 to 39\n",
      "Data columns (total 9 columns):\n",
      " #   Column    Non-Null Count  Dtype \n",
      "---  ------    --------------  ----- \n",
      " 0   Track     40 non-null     object\n",
      " 1   Position  40 non-null     int64 \n",
      " 2   No        40 non-null     int64 \n",
      " 3   Driver    40 non-null     object\n",
      " 4   Team      40 non-null     object\n",
      " 5   Q1        40 non-null     object\n",
      " 6   Q2        30 non-null     object\n",
      " 7   Q3        20 non-null     object\n",
      " 8   Laps      40 non-null     int64 \n",
      "dtypes: int64(3), object(6)\n",
      "memory usage: 2.9+ KB\n"
     ]
    }
   ],
   "source": [
    "qual_df.info()"
   ]
  },
  {
   "cell_type": "code",
   "execution_count": 6,
   "metadata": {},
   "outputs": [],
   "source": [
    "qual_df.loc[qual_df['Position']=='NC',\"Position\"] = 0"
   ]
  },
  {
   "cell_type": "code",
   "execution_count": 7,
   "metadata": {},
   "outputs": [],
   "source": [
    "qual_df['Position'] = pd.to_numeric(qual_df[\"Position\"])"
   ]
  },
  {
   "cell_type": "code",
   "execution_count": 8,
   "metadata": {},
   "outputs": [],
   "source": [
    "times_cols = ['Q1','Q2','Q3']\n",
    "for cols in times_cols:\n",
    "    qual_df[cols] = pd.to_timedelta('00:'+qual_df[cols],errors='coerce')\n",
    "    qual_df[cols] = pd.to_numeric(qual_df[cols],errors='coerce')"
   ]
  },
  {
   "cell_type": "code",
   "execution_count": 10,
   "metadata": {},
   "outputs": [
    {
     "name": "stdout",
     "output_type": "stream",
     "text": [
      "<class 'pandas.core.frame.DataFrame'>\n",
      "RangeIndex: 40 entries, 0 to 39\n",
      "Data columns (total 9 columns):\n",
      " #   Column    Non-Null Count  Dtype \n",
      "---  ------    --------------  ----- \n",
      " 0   Track     40 non-null     object\n",
      " 1   Position  40 non-null     int64 \n",
      " 2   No        40 non-null     int64 \n",
      " 3   Driver    40 non-null     object\n",
      " 4   Team      40 non-null     object\n",
      " 5   Q1        40 non-null     int64 \n",
      " 6   Q2        40 non-null     int64 \n",
      " 7   Q3        40 non-null     int64 \n",
      " 8   Laps      40 non-null     int64 \n",
      "dtypes: int64(6), object(3)\n",
      "memory usage: 2.9+ KB\n"
     ]
    }
   ],
   "source": [
    "qual_df.info()"
   ]
  },
  {
   "cell_type": "code",
   "execution_count": 11,
   "metadata": {},
   "outputs": [
    {
     "data": {
      "text/html": [
       "<div>\n",
       "<style scoped>\n",
       "    .dataframe tbody tr th:only-of-type {\n",
       "        vertical-align: middle;\n",
       "    }\n",
       "\n",
       "    .dataframe tbody tr th {\n",
       "        vertical-align: top;\n",
       "    }\n",
       "\n",
       "    .dataframe thead th {\n",
       "        text-align: right;\n",
       "    }\n",
       "</style>\n",
       "<table border=\"1\" class=\"dataframe\">\n",
       "  <thead>\n",
       "    <tr style=\"text-align: right;\">\n",
       "      <th></th>\n",
       "      <th>Track</th>\n",
       "      <th>Position</th>\n",
       "      <th>No</th>\n",
       "      <th>Driver</th>\n",
       "      <th>Team</th>\n",
       "      <th>Starting Grid</th>\n",
       "      <th>Laps</th>\n",
       "      <th>Time/Retired</th>\n",
       "      <th>Points</th>\n",
       "    </tr>\n",
       "  </thead>\n",
       "  <tbody>\n",
       "    <tr>\n",
       "      <th>0</th>\n",
       "      <td>China</td>\n",
       "      <td>1</td>\n",
       "      <td>44</td>\n",
       "      <td>Lewis Hamilton</td>\n",
       "      <td>Ferrari</td>\n",
       "      <td>1</td>\n",
       "      <td>19</td>\n",
       "      <td>30:39.965</td>\n",
       "      <td>8</td>\n",
       "    </tr>\n",
       "    <tr>\n",
       "      <th>1</th>\n",
       "      <td>China</td>\n",
       "      <td>2</td>\n",
       "      <td>81</td>\n",
       "      <td>Oscar Piastri</td>\n",
       "      <td>McLaren Mercedes</td>\n",
       "      <td>3</td>\n",
       "      <td>19</td>\n",
       "      <td>+6.889</td>\n",
       "      <td>7</td>\n",
       "    </tr>\n",
       "    <tr>\n",
       "      <th>2</th>\n",
       "      <td>China</td>\n",
       "      <td>3</td>\n",
       "      <td>1</td>\n",
       "      <td>Max Verstappen</td>\n",
       "      <td>Red Bull Racing Honda RBPT</td>\n",
       "      <td>2</td>\n",
       "      <td>19</td>\n",
       "      <td>+9.804</td>\n",
       "      <td>6</td>\n",
       "    </tr>\n",
       "    <tr>\n",
       "      <th>3</th>\n",
       "      <td>China</td>\n",
       "      <td>4</td>\n",
       "      <td>63</td>\n",
       "      <td>George Russell</td>\n",
       "      <td>Mercedes</td>\n",
       "      <td>5</td>\n",
       "      <td>19</td>\n",
       "      <td>+11.592</td>\n",
       "      <td>5</td>\n",
       "    </tr>\n",
       "    <tr>\n",
       "      <th>4</th>\n",
       "      <td>China</td>\n",
       "      <td>5</td>\n",
       "      <td>16</td>\n",
       "      <td>Charles Leclerc</td>\n",
       "      <td>Ferrari</td>\n",
       "      <td>4</td>\n",
       "      <td>19</td>\n",
       "      <td>+12.190</td>\n",
       "      <td>4</td>\n",
       "    </tr>\n",
       "  </tbody>\n",
       "</table>\n",
       "</div>"
      ],
      "text/plain": [
       "   Track Position  No           Driver                        Team  \\\n",
       "0  China        1  44   Lewis Hamilton                     Ferrari   \n",
       "1  China        2  81    Oscar Piastri            McLaren Mercedes   \n",
       "2  China        3   1   Max Verstappen  Red Bull Racing Honda RBPT   \n",
       "3  China        4  63   George Russell                    Mercedes   \n",
       "4  China        5  16  Charles Leclerc                     Ferrari   \n",
       "\n",
       "   Starting Grid  Laps Time/Retired  Points  \n",
       "0              1    19    30:39.965       8  \n",
       "1              3    19       +6.889       7  \n",
       "2              2    19       +9.804       6  \n",
       "3              5    19      +11.592       5  \n",
       "4              4    19      +12.190       4  "
      ]
     },
     "execution_count": 11,
     "metadata": {},
     "output_type": "execute_result"
    }
   ],
   "source": [
    "race_df = pd.read_csv('Data/F1_2025_SprintResults.csv')\n",
    "race_df.head()"
   ]
  },
  {
   "cell_type": "code",
   "execution_count": 13,
   "metadata": {},
   "outputs": [
    {
     "data": {
      "text/plain": [
       "array(['1', '2', '3', '4', '5', '6', '7', '8', '9', '10', '11', '12',\n",
       "       '13', '14', '15', '16', '17', '18', '19', '20', '21'], dtype=object)"
      ]
     },
     "execution_count": 13,
     "metadata": {},
     "output_type": "execute_result"
    }
   ],
   "source": [
    "race_df.loc[race_df['Position']=='DQ',\"Position\"] = '21'\n",
    "race_df.loc[race_df['Position']=='NC',\"Position\"] = '21'\n",
    "race_df.Position.unique()"
   ]
  },
  {
   "cell_type": "code",
   "execution_count": 14,
   "metadata": {},
   "outputs": [],
   "source": [
    "li = ['Position','Points']\n",
    "for cols in li:\n",
    "    race_df[cols] = pd.to_numeric(race_df[cols])"
   ]
  },
  {
   "cell_type": "code",
   "execution_count": 15,
   "metadata": {},
   "outputs": [],
   "source": [
    "def comparing(race_pos,qual_pos):\n",
    "    if qual_pos > race_pos:\n",
    "        return 'Gain'\n",
    "    elif qual_pos == race_pos:\n",
    "        return 'Same'\n",
    "    elif qual_pos < race_pos:\n",
    "        return 'Loss'\n",
    "    \n",
    "\n",
    "race_df['Result'] = race_df.apply(lambda x: comparing(x['Position'],x['Starting Grid']),axis=1)"
   ]
  },
  {
   "cell_type": "code",
   "execution_count": 16,
   "metadata": {},
   "outputs": [],
   "source": [
    "# new_df = race_df.merge(qual_df[['Q1','Q2','Q3','Laps','No','Track']],on=['No','Track'])\n",
    "new_df = qual_df.merge(race_df[['No','Track']],on=['No','Track'])"
   ]
  },
  {
   "cell_type": "code",
   "execution_count": 17,
   "metadata": {},
   "outputs": [
    {
     "data": {
      "text/html": [
       "<div>\n",
       "<style scoped>\n",
       "    .dataframe tbody tr th:only-of-type {\n",
       "        vertical-align: middle;\n",
       "    }\n",
       "\n",
       "    .dataframe tbody tr th {\n",
       "        vertical-align: top;\n",
       "    }\n",
       "\n",
       "    .dataframe thead th {\n",
       "        text-align: right;\n",
       "    }\n",
       "</style>\n",
       "<table border=\"1\" class=\"dataframe\">\n",
       "  <thead>\n",
       "    <tr style=\"text-align: right;\">\n",
       "      <th></th>\n",
       "      <th>Track</th>\n",
       "      <th>Position</th>\n",
       "      <th>No</th>\n",
       "      <th>Driver</th>\n",
       "      <th>Team</th>\n",
       "      <th>Q1</th>\n",
       "      <th>Q2</th>\n",
       "      <th>Q3</th>\n",
       "      <th>Laps</th>\n",
       "    </tr>\n",
       "  </thead>\n",
       "  <tbody>\n",
       "    <tr>\n",
       "      <th>0</th>\n",
       "      <td>China</td>\n",
       "      <td>1</td>\n",
       "      <td>44</td>\n",
       "      <td>Lewis Hamilton</td>\n",
       "      <td>Ferrari</td>\n",
       "      <td>91212000000</td>\n",
       "      <td>91484000000</td>\n",
       "      <td>90849000000</td>\n",
       "      <td>15</td>\n",
       "    </tr>\n",
       "    <tr>\n",
       "      <th>1</th>\n",
       "      <td>China</td>\n",
       "      <td>2</td>\n",
       "      <td>1</td>\n",
       "      <td>Max Verstappen</td>\n",
       "      <td>Red Bull Racing Honda RBPT</td>\n",
       "      <td>91916000000</td>\n",
       "      <td>91521000000</td>\n",
       "      <td>90867000000</td>\n",
       "      <td>12</td>\n",
       "    </tr>\n",
       "    <tr>\n",
       "      <th>2</th>\n",
       "      <td>China</td>\n",
       "      <td>3</td>\n",
       "      <td>81</td>\n",
       "      <td>Oscar Piastri</td>\n",
       "      <td>McLaren Mercedes</td>\n",
       "      <td>91723000000</td>\n",
       "      <td>91362000000</td>\n",
       "      <td>90929000000</td>\n",
       "      <td>13</td>\n",
       "    </tr>\n",
       "    <tr>\n",
       "      <th>3</th>\n",
       "      <td>China</td>\n",
       "      <td>4</td>\n",
       "      <td>16</td>\n",
       "      <td>Charles Leclerc</td>\n",
       "      <td>Ferrari</td>\n",
       "      <td>91518000000</td>\n",
       "      <td>91561000000</td>\n",
       "      <td>91057000000</td>\n",
       "      <td>15</td>\n",
       "    </tr>\n",
       "    <tr>\n",
       "      <th>4</th>\n",
       "      <td>China</td>\n",
       "      <td>5</td>\n",
       "      <td>63</td>\n",
       "      <td>George Russell</td>\n",
       "      <td>Mercedes</td>\n",
       "      <td>91952000000</td>\n",
       "      <td>91346000000</td>\n",
       "      <td>91169000000</td>\n",
       "      <td>18</td>\n",
       "    </tr>\n",
       "  </tbody>\n",
       "</table>\n",
       "</div>"
      ],
      "text/plain": [
       "   Track  Position  No           Driver                        Team  \\\n",
       "0  China         1  44   Lewis Hamilton                     Ferrari   \n",
       "1  China         2   1   Max Verstappen  Red Bull Racing Honda RBPT   \n",
       "2  China         3  81    Oscar Piastri            McLaren Mercedes   \n",
       "3  China         4  16  Charles Leclerc                     Ferrari   \n",
       "4  China         5  63   George Russell                    Mercedes   \n",
       "\n",
       "            Q1           Q2           Q3  Laps  \n",
       "0  91212000000  91484000000  90849000000    15  \n",
       "1  91916000000  91521000000  90867000000    12  \n",
       "2  91723000000  91362000000  90929000000    13  \n",
       "3  91518000000  91561000000  91057000000    15  \n",
       "4  91952000000  91346000000  91169000000    18  "
      ]
     },
     "execution_count": 17,
     "metadata": {},
     "output_type": "execute_result"
    }
   ],
   "source": [
    "new_df.head()"
   ]
  },
  {
   "cell_type": "code",
   "execution_count": 18,
   "metadata": {},
   "outputs": [],
   "source": [
    "X_data = new_df\n",
    "y_data = race_df['Result']"
   ]
  },
  {
   "cell_type": "code",
   "execution_count": 21,
   "metadata": {},
   "outputs": [],
   "source": [
    "string_cols = ['Track','Driver','Team']"
   ]
  },
  {
   "cell_type": "code",
   "execution_count": 22,
   "metadata": {},
   "outputs": [],
   "source": [
    "encoder = OrdinalEncoder()\n",
    "Encoded_X = pd.DataFrame(encoder.fit_transform(new_df[string_cols]))\n"
   ]
  },
  {
   "cell_type": "code",
   "execution_count": 23,
   "metadata": {},
   "outputs": [],
   "source": [
    "Encoded_X.columns = string_cols\n",
    "X_data = X_data.drop(columns=string_cols)\n",
    "X_data = pd.merge(X_data,Encoded_X,on=Encoded_X.index)"
   ]
  },
  {
   "cell_type": "code",
   "execution_count": 24,
   "metadata": {},
   "outputs": [
    {
     "data": {
      "text/html": [
       "<div>\n",
       "<style scoped>\n",
       "    .dataframe tbody tr th:only-of-type {\n",
       "        vertical-align: middle;\n",
       "    }\n",
       "\n",
       "    .dataframe tbody tr th {\n",
       "        vertical-align: top;\n",
       "    }\n",
       "\n",
       "    .dataframe thead th {\n",
       "        text-align: right;\n",
       "    }\n",
       "</style>\n",
       "<table border=\"1\" class=\"dataframe\">\n",
       "  <thead>\n",
       "    <tr style=\"text-align: right;\">\n",
       "      <th></th>\n",
       "      <th>Position</th>\n",
       "      <th>No</th>\n",
       "      <th>Q1</th>\n",
       "      <th>Q2</th>\n",
       "      <th>Q3</th>\n",
       "      <th>Laps</th>\n",
       "      <th>Track</th>\n",
       "      <th>Team</th>\n",
       "    </tr>\n",
       "  </thead>\n",
       "  <tbody>\n",
       "    <tr>\n",
       "      <th>0</th>\n",
       "      <td>1</td>\n",
       "      <td>44</td>\n",
       "      <td>91212000000</td>\n",
       "      <td>91484000000</td>\n",
       "      <td>90849000000</td>\n",
       "      <td>15</td>\n",
       "      <td>0.0</td>\n",
       "      <td>2.0</td>\n",
       "    </tr>\n",
       "    <tr>\n",
       "      <th>1</th>\n",
       "      <td>2</td>\n",
       "      <td>1</td>\n",
       "      <td>91916000000</td>\n",
       "      <td>91521000000</td>\n",
       "      <td>90867000000</td>\n",
       "      <td>12</td>\n",
       "      <td>0.0</td>\n",
       "      <td>8.0</td>\n",
       "    </tr>\n",
       "    <tr>\n",
       "      <th>2</th>\n",
       "      <td>3</td>\n",
       "      <td>81</td>\n",
       "      <td>91723000000</td>\n",
       "      <td>91362000000</td>\n",
       "      <td>90929000000</td>\n",
       "      <td>13</td>\n",
       "      <td>0.0</td>\n",
       "      <td>5.0</td>\n",
       "    </tr>\n",
       "    <tr>\n",
       "      <th>3</th>\n",
       "      <td>4</td>\n",
       "      <td>16</td>\n",
       "      <td>91518000000</td>\n",
       "      <td>91561000000</td>\n",
       "      <td>91057000000</td>\n",
       "      <td>15</td>\n",
       "      <td>0.0</td>\n",
       "      <td>2.0</td>\n",
       "    </tr>\n",
       "    <tr>\n",
       "      <th>4</th>\n",
       "      <td>5</td>\n",
       "      <td>63</td>\n",
       "      <td>91952000000</td>\n",
       "      <td>91346000000</td>\n",
       "      <td>91169000000</td>\n",
       "      <td>18</td>\n",
       "      <td>0.0</td>\n",
       "      <td>6.0</td>\n",
       "    </tr>\n",
       "  </tbody>\n",
       "</table>\n",
       "</div>"
      ],
      "text/plain": [
       "   Position  No           Q1           Q2           Q3  Laps  Track  Team\n",
       "0         1  44  91212000000  91484000000  90849000000    15    0.0   2.0\n",
       "1         2   1  91916000000  91521000000  90867000000    12    0.0   8.0\n",
       "2         3  81  91723000000  91362000000  90929000000    13    0.0   5.0\n",
       "3         4  16  91518000000  91561000000  91057000000    15    0.0   2.0\n",
       "4         5  63  91952000000  91346000000  91169000000    18    0.0   6.0"
      ]
     },
     "execution_count": 24,
     "metadata": {},
     "output_type": "execute_result"
    }
   ],
   "source": [
    "X_data = X_data.drop(columns=['key_0','Driver'])\n",
    "X_data = X_data.fillna(0)\n",
    "X_data.head()"
   ]
  },
  {
   "cell_type": "code",
   "execution_count": 42,
   "metadata": {},
   "outputs": [],
   "source": [
    "model = SGDClassifier()\n",
    "model.fit(X_data,y_data)"
   ]
  },
  {
   "cell_type": "code",
   "execution_count": 48,
   "metadata": {},
   "outputs": [],
   "source": [
    "preds = model.predict(X_data)"
   ]
  },
  {
   "cell_type": "code",
   "execution_count": 49,
   "metadata": {},
   "outputs": [
    {
     "data": {
      "text/plain": [
       "0.625"
      ]
     },
     "execution_count": 49,
     "metadata": {},
     "output_type": "execute_result"
    }
   ],
   "source": [
    "model.score(X_data,y_data)"
   ]
  },
  {
   "cell_type": "code",
   "execution_count": null,
   "metadata": {},
   "outputs": [],
   "source": []
  }
 ],
 "metadata": {
  "kernelspec": {
   "display_name": "Python 3 (ipykernel)",
   "language": "python",
   "name": "python3"
  },
  "language_info": {
   "codemirror_mode": {
    "name": "ipython",
    "version": 3
   },
   "file_extension": ".py",
   "mimetype": "text/x-python",
   "name": "python",
   "nbconvert_exporter": "python",
   "pygments_lexer": "ipython3",
   "version": "3.12.1"
  }
 },
 "nbformat": 4,
 "nbformat_minor": 2
}
